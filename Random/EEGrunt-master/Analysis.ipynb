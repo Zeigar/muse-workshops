{
 "cells": [
  {
   "cell_type": "code",
   "execution_count": 12,
   "metadata": {},
   "outputs": [
    {
     "name": "stdout",
     "output_type": "stream",
     "text": [
      "Loading EEG data: reg_meditate_shrooms.csvreg_meditate_shrooms.csv\n",
      "EEG data file not found.\n"
     ]
    },
    {
     "ename": "NameError",
     "evalue": "name 'exit' is not defined",
     "output_type": "error",
     "traceback": [
      "\u001b[0;31m---------------------------------------------------------------------------\u001b[0m",
      "\u001b[0;31mFileNotFoundError\u001b[0m                         Traceback (most recent call last)",
      "\u001b[0;32m~/Desktop/NeuroTech/Fall 2019/muse-workshops/Random/EEGrunt-master/EEGrunt.py\u001b[0m in \u001b[0;36mload_data\u001b[0;34m(self)\u001b[0m\n\u001b[1;32m     61\u001b[0m         \u001b[0;32mtry\u001b[0m\u001b[0;34m:\u001b[0m\u001b[0;34m\u001b[0m\u001b[0;34m\u001b[0m\u001b[0m\n\u001b[0;32m---> 62\u001b[0;31m             \u001b[0;32mwith\u001b[0m \u001b[0mopen\u001b[0m\u001b[0;34m(\u001b[0m\u001b[0mpath\u001b[0m\u001b[0;34m+\u001b[0m\u001b[0mfilename\u001b[0m\u001b[0;34m)\u001b[0m \u001b[0;32mas\u001b[0m \u001b[0mfile\u001b[0m\u001b[0;34m:\u001b[0m\u001b[0;34m\u001b[0m\u001b[0;34m\u001b[0m\u001b[0m\n\u001b[0m\u001b[1;32m     63\u001b[0m                 \u001b[0;32mpass\u001b[0m\u001b[0;34m\u001b[0m\u001b[0;34m\u001b[0m\u001b[0m\n",
      "\u001b[0;31mFileNotFoundError\u001b[0m: [Errno 2] No such file or directory: 'reg_meditate_shrooms.csvreg_meditate_shrooms.csv'",
      "\nDuring handling of the above exception, another exception occurred:\n",
      "\u001b[0;31mNameError\u001b[0m                                 Traceback (most recent call last)",
      "\u001b[0;32m<ipython-input-12-0e0ec52b91bb>\u001b[0m in \u001b[0;36m<module>\u001b[0;34m\u001b[0m\n\u001b[1;32m     31\u001b[0m \u001b[0;34m\u001b[0m\u001b[0m\n\u001b[1;32m     32\u001b[0m \u001b[0;31m# Load the EEG data\u001b[0m\u001b[0;34m\u001b[0m\u001b[0;34m\u001b[0m\u001b[0;34m\u001b[0m\u001b[0m\n\u001b[0;32m---> 33\u001b[0;31m \u001b[0mEEG\u001b[0m\u001b[0;34m.\u001b[0m\u001b[0mload_data\u001b[0m\u001b[0;34m(\u001b[0m\u001b[0;34m)\u001b[0m\u001b[0;34m\u001b[0m\u001b[0;34m\u001b[0m\u001b[0m\n\u001b[0m\u001b[1;32m     34\u001b[0m \u001b[0;34m\u001b[0m\u001b[0m\n\u001b[1;32m     35\u001b[0m \u001b[0;32mfor\u001b[0m \u001b[0mchannel\u001b[0m \u001b[0;32min\u001b[0m \u001b[0mEEG\u001b[0m\u001b[0;34m.\u001b[0m\u001b[0mchannels\u001b[0m\u001b[0;34m:\u001b[0m\u001b[0;34m\u001b[0m\u001b[0;34m\u001b[0m\u001b[0m\n",
      "\u001b[0;32m~/Desktop/NeuroTech/Fall 2019/muse-workshops/Random/EEGrunt-master/EEGrunt.py\u001b[0m in \u001b[0;36mload_data\u001b[0;34m(self)\u001b[0m\n\u001b[1;32m     64\u001b[0m         \u001b[0;32mexcept\u001b[0m \u001b[0mIOError\u001b[0m\u001b[0;34m:\u001b[0m\u001b[0;34m\u001b[0m\u001b[0;34m\u001b[0m\u001b[0m\n\u001b[1;32m     65\u001b[0m             \u001b[0mprint\u001b[0m\u001b[0;34m(\u001b[0m\u001b[0;34m'EEG data file not found.'\u001b[0m\u001b[0;34m)\u001b[0m\u001b[0;34m\u001b[0m\u001b[0;34m\u001b[0m\u001b[0m\n\u001b[0;32m---> 66\u001b[0;31m             \u001b[0;32mreturn\u001b[0m\u001b[0;34m\u001b[0m\u001b[0;34m\u001b[0m\u001b[0m\n\u001b[0m\u001b[1;32m     67\u001b[0m \u001b[0;34m\u001b[0m\u001b[0m\n\u001b[1;32m     68\u001b[0m         \u001b[0;32mif\u001b[0m \u001b[0msource\u001b[0m \u001b[0;34m==\u001b[0m \u001b[0;34m'muse'\u001b[0m\u001b[0;34m:\u001b[0m\u001b[0;34m\u001b[0m\u001b[0;34m\u001b[0m\u001b[0m\n",
      "\u001b[0;31mNameError\u001b[0m: name 'exit' is not defined"
     ]
    }
   ],
   "source": [
    "import EEGrunt\n",
    "\n",
    "# Required settings\n",
    "\n",
    "# Data source. Options:\n",
    "# 'muse' for data from Muse headsets.\n",
    "# 'muse-lsl' for data from Muse headsets recorded with Lab Streaming Layer.\n",
    "# 'openbci' for OpenBCI Cyton data recorded with the OpenBCI GUI;\n",
    "# 'openbci-ganglion' for OpenBCI Ganglion data recorded with the OpenBCI GUI;\n",
    "# 'openbci-openvibe' for Cyton data recorded with OpenViBE's csv writer\n",
    "# 'openbci-ganglion-openvibe' for Ganglion data recorded with OpenViBE's csv writer\n",
    "\n",
    "source = 'openbci'\n",
    "\n",
    "# Path to EEG data file\n",
    "path = 'reg_meditate_shrooms.csv'\n",
    "\n",
    "# EEG data file name\n",
    "filename = 'reg_meditate_shrooms.csv'\n",
    "\n",
    "# Session title (used in plots and such)\n",
    "session_title = \"OpenBCI EEGrunt Test Data\"\n",
    "\n",
    "# Initialize\n",
    "EEG = EEGrunt.EEGrunt(path, filename, source, session_title)\n",
    "\n",
    "# Here we can set some additional properties\n",
    "# The 'plot' property determines whether plots are displayed or saved.\n",
    "# Possible values are 'show' and 'save'\n",
    "EEG.plot = 'show'\n",
    "\n",
    "# Load the EEG data\n",
    "EEG.load_data()\n",
    "\n",
    "for channel in EEG.channels:\n",
    "\n",
    "    EEG.load_channel(channel)\n",
    "\n",
    "    print(\"Processing channel \"+ str(EEG.channel))\n",
    "\n",
    "    # Removes OpenBCI DC offset\n",
    "    EEG.remove_dc_offset()\n",
    "\n",
    "    # Notches 60hz noise (if you're in Europe, switch to 50Hz)\n",
    "    EEG.notch_mains_interference()\n",
    "\n",
    "    # Make signal plot\n",
    "    EEG.signalplot()\n",
    "\n",
    "    # Crunches spectrum data and stores as EEGrunt attribute(s) for reuse\n",
    "    EEG.get_spectrum_data()\n",
    "\n",
    "    # Returns bandpassed data\n",
    "    # (uses scipy.signal butterworth filter)\n",
    "    start_Hz = 1\n",
    "    stop_Hz = 50\n",
    "    EEG.data = EEG.bandpass(start_Hz,stop_Hz)\n",
    "\n",
    "    # Make Spectrogram\n",
    "    EEG.spectrogram()\n",
    "\n",
    "    # Line graph of amplitude over time for a given frequency range.\n",
    "    # Arguments are start frequency, end frequency, and label\n",
    "    EEG.plot_band_power(8,12,\"Alpha\")\n",
    "\n",
    "    # Power spectrum\n",
    "    EEG.plot_spectrum_avg_fft()\n",
    "\n",
    "    # Plot coherence fft (not tested recently...)\n",
    "    # s1 = bandpass(seginfo[\"data\"][:,1-1], config['band'])\n",
    "    # s2 = bandpass(seginfo[\"data\"][:,8-1], config['band'])\n",
    "    # plot_coherence_fft(s1,s2,\"1\",\"8\")\n",
    "\n",
    "# When all's said and done, show the plots\n",
    "EEG.showplots()\n"
   ]
  },
  {
   "cell_type": "code",
   "execution_count": null,
   "metadata": {},
   "outputs": [],
   "source": []
  },
  {
   "cell_type": "code",
   "execution_count": null,
   "metadata": {},
   "outputs": [],
   "source": []
  }
 ],
 "metadata": {
  "kernelspec": {
   "display_name": "Python 3",
   "language": "python",
   "name": "python3"
  },
  "language_info": {
   "codemirror_mode": {
    "name": "ipython",
    "version": 3
   },
   "file_extension": ".py",
   "mimetype": "text/x-python",
   "name": "python",
   "nbconvert_exporter": "python",
   "pygments_lexer": "ipython3",
   "version": "3.6.7"
  }
 },
 "nbformat": 4,
 "nbformat_minor": 2
}
