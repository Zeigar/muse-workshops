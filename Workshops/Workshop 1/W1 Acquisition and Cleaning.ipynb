{
 "cells": [
  {
   "cell_type": "markdown",
   "metadata": {},
   "source": [
    "# NT@B Software Workshop 1\n",
    "### Data Acquisition\n",
    "#### Saarang Panchavati and Abhinav Pottabathula"
   ]
  },
  {
   "cell_type": "markdown",
   "metadata": {},
   "source": [
    "***"
   ]
  },
  {
   "cell_type": "markdown",
   "metadata": {},
   "source": [
    "## Intro to Jupyter \n",
    "Welcome to Jupyter Notebook! Let's get you familiarized with Jupyter. If you're already familiar with the Jupyter environment you can move on to the next section.\n",
    "\n",
    "Jupyter is really cool because you can execute your code in _cells_ instead of all at once. This is extremely useful for data science because you can iterate through different methods of analysis without having to run all your code at once. \n",
    "\n",
    "By default, you are in *command* mode in command mode, you can do the following:\n",
    "1. Change a cells _type_: (code, markdown or raw). The type of this cell is markdown, where you can write stuff and make it look pretty\n",
    "2. Add and Delete Cells\n",
    "3. Run Cells\n",
    "\n",
    "To re-enter *command* mode, just press `esc` on your keyboard.\n",
    "\n",
    "Here are the most useful keyboard shortcuts:\n",
    "1. `shift + enter` runs a cell\n",
    "2. `a`,`b` adds a cell above and below the current one, respectively\n",
    "3. `y` changes a cell to code type\n",
    "4. `m` changes as cell to markdown type\n",
    "5. `d+d` deletes the selected cell\n",
    "6. `z+z` is undo\n",
    "7. `i+i` interrupts the notebook (in case you have an infinite loop or something)\n",
    "\n",
    " \n",
    "\n",
    "Some things to remember:\n",
    "1. The number next to a cell is the order in which it was run, if there's a star there then that means it is still running. \n",
    "2. Jupyter saves variables even if you delete the cell, so if you want to re-run your notebook or run a cell, make sure you're aware of what the variables are set to!\n",
    "3. Be sure to stay organized in your notebook — it can become very hard to find cells or portions of your code if you don't organize your code in a nice way"
   ]
  },
  {
   "cell_type": "markdown",
   "metadata": {},
   "source": [
    "# convert this cell in to code type and run it with shift enter!\n",
    "\n",
    "2+2"
   ]
  },
  {
   "cell_type": "code",
   "execution_count": null,
   "metadata": {
    "scrolled": false
   },
   "outputs": [],
   "source": [
    "#interrupt with ii, interrupt quickly or this might break your laptop lol\n",
    "while True:\n",
    "    continue"
   ]
  },
  {
   "cell_type": "markdown",
   "metadata": {},
   "source": [
    "***"
   ]
  },
  {
   "cell_type": "markdown",
   "metadata": {},
   "source": [
    "## Intro to Pandas! \n",
    "\n",
    "Pandas is THE library for datascience! It is realllllllLLLLLLy important to be familiar with it and understand how to use it! We're gonna let google teach y'all so please go to [this](https://colab.research.google.com/notebooks/mlcc/intro_to_pandas.ipynb) link and complete the quick tutorial. It is pretty intuitive, and we'll all get better with it as the semester goes by!"
   ]
  },
  {
   "cell_type": "markdown",
   "metadata": {},
   "source": [
    "***"
   ]
  },
  {
   "cell_type": "markdown",
   "metadata": {},
   "source": [
    "Go to http://www.mindbigdata.com/opendb/\n",
    "\n",
    "Download the MindBigData-MU-v1.0.zip"
   ]
  },
  {
   "cell_type": "code",
   "execution_count": null,
   "metadata": {},
   "outputs": [],
   "source": [
    "\n",
    "import zipfile\n",
    "with zipfile.ZipFile(\"MindBigData-MU-v1.0.zip\",\"r\") as zip_ref:\n",
    "    zip_ref.extractall(\"\")\n",
    "    \n"
   ]
  },
  {
   "cell_type": "code",
   "execution_count": null,
   "metadata": {},
   "outputs": [],
   "source": []
  },
  {
   "cell_type": "code",
   "execution_count": null,
   "metadata": {},
   "outputs": [],
   "source": []
  },
  {
   "cell_type": "code",
   "execution_count": null,
   "metadata": {},
   "outputs": [],
   "source": []
  },
  {
   "cell_type": "code",
   "execution_count": null,
   "metadata": {},
   "outputs": [],
   "source": []
  },
  {
   "cell_type": "code",
   "execution_count": null,
   "metadata": {},
   "outputs": [],
   "source": []
  },
  {
   "cell_type": "code",
   "execution_count": null,
   "metadata": {},
   "outputs": [],
   "source": []
  }
 ],
 "metadata": {
  "kernelspec": {
   "display_name": "Python 3",
   "language": "python",
   "name": "python3"
  },
  "language_info": {
   "codemirror_mode": {
    "name": "ipython",
    "version": 3
   },
   "file_extension": ".py",
   "mimetype": "text/x-python",
   "name": "python",
   "nbconvert_exporter": "python",
   "pygments_lexer": "ipython3",
   "version": "3.6.2"
  }
 },
 "nbformat": 4,
 "nbformat_minor": 2
}
